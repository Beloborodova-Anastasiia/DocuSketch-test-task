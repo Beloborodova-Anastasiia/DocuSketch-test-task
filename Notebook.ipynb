{
 "cells": [
  {
   "cell_type": "code",
   "execution_count": null,
   "metadata": {},
   "outputs": [],
   "source": [
    "from main import DrawingPlots\n",
    "\n",
    "drawing = DrawingPlots()\n",
    "drawing.draw_plot(\"deviation.json\")\n"
   ]
  }
 ],
 "metadata": {
  "language_info": {
   "name": "python"
  }
 },
 "nbformat": 4,
 "nbformat_minor": 2
}
